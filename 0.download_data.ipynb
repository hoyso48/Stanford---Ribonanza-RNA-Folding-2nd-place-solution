{
 "cells": [
  {
   "cell_type": "code",
   "execution_count": 1,
   "id": "e40b9136-8770-444f-aea9-e8ef20326317",
   "metadata": {},
   "outputs": [],
   "source": [
    "DATA_DIR = '.'"
   ]
  },
  {
   "cell_type": "code",
   "execution_count": 2,
   "id": "5d55b76b-d8e5-46d7-a94e-dadb51623537",
   "metadata": {},
   "outputs": [
    {
     "name": "stdout",
     "output_type": "stream",
     "text": [
      "/home/hoyso/projects/rnafold/2nd-place-solution\n"
     ]
    }
   ],
   "source": [
    "cd {DATA_DIR}"
   ]
  },
  {
   "cell_type": "code",
   "execution_count": 3,
   "id": "a86a9e72-4ad1-4ea9-b8cd-e17e04a16961",
   "metadata": {},
   "outputs": [
    {
     "name": "stdout",
     "output_type": "stream",
     "text": [
      "Downloading stanford-ribonanza-rna-folding.zip to /home/hoyso/projects/rnafold/2nd-place-solution\n",
      "  0%|                                    | 9.00M/36.9G [00:01<1:01:50, 10.7MB/s]^C\n",
      "  0%|                                    | 9.00M/36.9G [00:01<1:14:33, 8.85MB/s]\n",
      "User cancelled operation\n",
      "Archive:  stanford-ribonanza-rna-folding.zip\n",
      "  End-of-central-directory signature not found.  Either this file is not\n",
      "  a zipfile, or it constitutes one disk of a multi-part archive.  In the\n",
      "  latter case the central directory and zipfile comment will be found on\n",
      "  the last disk(s) of this archive.\n",
      "unzip:  cannot find zipfile directory in one of stanford-ribonanza-rna-folding or\n",
      "        stanford-ribonanza-rna-folding.zip, and cannot find stanford-ribonanza-rna-folding.ZIP, period.\n"
     ]
    }
   ],
   "source": [
    "!kaggle competitions download -c stanford-ribonanza-rna-folding\n",
    "!unzip stanford-ribonanza-rna-folding"
   ]
  },
  {
   "cell_type": "code",
   "execution_count": null,
   "id": "bd0828e1-3b1c-4f1b-bcc1-f85eaaccfd48",
   "metadata": {},
   "outputs": [],
   "source": []
  }
 ],
 "metadata": {
  "kernelspec": {
   "display_name": "Python 3 (ipykernel)",
   "language": "python",
   "name": "python3"
  },
  "language_info": {
   "codemirror_mode": {
    "name": "ipython",
    "version": 3
   },
   "file_extension": ".py",
   "mimetype": "text/x-python",
   "name": "python",
   "nbconvert_exporter": "python",
   "pygments_lexer": "ipython3",
   "version": "3.9.18"
  }
 },
 "nbformat": 4,
 "nbformat_minor": 5
}
